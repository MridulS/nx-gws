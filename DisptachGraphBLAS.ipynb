{
 "cells": [
  {
   "cell_type": "markdown",
   "id": "2d207fef-bc0d-45f0-94de-d9bc9dd95140",
   "metadata": {},
   "source": [
    "# Speed up your NetworkX code with GraphBLAS\n",
    "\n",
    "NetworkX is a pure python library for graph theory and network science by design. The base data structure for graphs in NetworkX are python dictionaries. This comes with a lot of advantages like extremely flexible and abstract ways of modelling your graph data, but one of the shortcomings is the performance. Native python objects and looping over them can slow down some things. NetworkX does use the sparse.array module in SciPy wherever it can to speed up algorithms but this still requires moving data from NetworkX to SciPy which can be an expensive operation.\n",
    "\n",
    "With NetworkX 3.0 we have started experimenting with dispatching certain algorithms to GraphBLAS. GraphBLAS is a specification to do graph operations using tools in linear algebra. We are still in early stages of designing the API and dispatch mechanism to multiple different backends. This dispatch mechanism will also let users run code on different hardwares like GPUs. We hope to soon have a NetworkX backend which can link into CuGraph."
   ]
  },
  {
   "cell_type": "code",
   "execution_count": 1,
   "id": "8ba0056f-f6f7-4510-8d12-5569e7051885",
   "metadata": {},
   "outputs": [],
   "source": [
    "import networkx as nx"
   ]
  },
  {
   "cell_type": "code",
   "execution_count": 3,
   "id": "e49924f5-ca67-4aaa-badb-48acc1df0315",
   "metadata": {},
   "outputs": [],
   "source": [
    "import graphblas_algorithms as gb"
   ]
  },
  {
   "cell_type": "code",
   "execution_count": null,
   "id": "64142404-974c-4e83-99dd-46d85c1fc567",
   "metadata": {},
   "outputs": [],
   "source": []
  },
  {
   "cell_type": "code",
   "execution_count": 11,
   "id": "3057f1ce-7859-43b1-9cfe-ffb157142042",
   "metadata": {},
   "outputs": [],
   "source": [
    "G = nx.erdos_renyi_graph(1000, 0.5)"
   ]
  },
  {
   "cell_type": "code",
   "execution_count": 12,
   "id": "9e9397b8-edf8-4896-baaa-bea669433942",
   "metadata": {},
   "outputs": [
    {
     "data": {
      "text/plain": [
       "networkx.classes.graph.Graph"
      ]
     },
     "execution_count": 12,
     "metadata": {},
     "output_type": "execute_result"
    }
   ],
   "source": [
    "type(G)"
   ]
  },
  {
   "cell_type": "code",
   "execution_count": 13,
   "id": "07505959-f45f-45b7-b16e-e4243909300a",
   "metadata": {},
   "outputs": [],
   "source": [
    "# Convert to a GraphBLAS Graph object from NetworkX\n",
    "GB = gb.Graph.from_networkx(G)"
   ]
  },
  {
   "cell_type": "code",
   "execution_count": 14,
   "id": "98a6b296-bcf6-4fc8-bae1-9e41b740861e",
   "metadata": {},
   "outputs": [
    {
     "data": {
      "text/plain": [
       "graphblas_algorithms.classes.graph.Graph"
      ]
     },
     "execution_count": 14,
     "metadata": {},
     "output_type": "execute_result"
    }
   ],
   "source": [
    "type(GB)"
   ]
  },
  {
   "cell_type": "code",
   "execution_count": 15,
   "id": "49c5510d-6c52-48c3-823e-630d3568603f",
   "metadata": {},
   "outputs": [
    {
     "data": {
      "text/plain": [
       "False"
      ]
     },
     "execution_count": 15,
     "metadata": {},
     "output_type": "execute_result"
    }
   ],
   "source": [
    "# A backend Graph doesn't need to be a subclass of nx.Graph\n",
    "issubclass(gb.Graph, nx.Graph)"
   ]
  },
  {
   "cell_type": "markdown",
   "id": "c8e25bd1-fe12-4af5-81b1-538242377e14",
   "metadata": {},
   "source": [
    "With this setup, backend implementors do not need to worry about the data structures inside NetworkX. They just need to provide an interface to the NetworkX API and have a class attribute `__networkx_plugin__` which will help NetworkX dispatch the algorithm to the correct backend."
   ]
  },
  {
   "cell_type": "code",
   "execution_count": 16,
   "id": "b9ae7d1f-693d-4d14-8055-86c21e2a0a7a",
   "metadata": {},
   "outputs": [
    {
     "data": {
      "text/plain": [
       "'graphblas'"
      ]
     },
     "execution_count": 16,
     "metadata": {},
     "output_type": "execute_result"
    }
   ],
   "source": [
    "GB.__networkx_plugin__"
   ]
  },
  {
   "cell_type": "markdown",
   "id": "af9a9dfd-a30a-4222-8053-bee15af7663f",
   "metadata": {},
   "source": [
    "## Let's trying some dispatching examples"
   ]
  },
  {
   "cell_type": "code",
   "execution_count": 17,
   "id": "03740202-70c4-4ea6-b2b7-fb74a1309696",
   "metadata": {},
   "outputs": [
    {
     "name": "stdout",
     "output_type": "stream",
     "text": [
      "CPU times: user 260 ms, sys: 11.2 ms, total: 271 ms\n",
      "Wall time: 271 ms\n"
     ]
    }
   ],
   "source": [
    "%%time\n",
    "_ = nx.pagerank(G)"
   ]
  },
  {
   "cell_type": "code",
   "execution_count": 18,
   "id": "8d4934d9-f77d-4be2-bb80-a3b3b92ad875",
   "metadata": {},
   "outputs": [
    {
     "name": "stdout",
     "output_type": "stream",
     "text": [
      "CPU times: user 6.69 ms, sys: 7.43 ms, total: 14.1 ms\n",
      "Wall time: 17.1 ms\n"
     ]
    }
   ],
   "source": [
    "%%time\n",
    "_ = nx.pagerank(GB)"
   ]
  },
  {
   "cell_type": "code",
   "execution_count": 19,
   "id": "845a0c5b-d540-4f06-99cf-4488121ea7ee",
   "metadata": {},
   "outputs": [
    {
     "name": "stdout",
     "output_type": "stream",
     "text": [
      "CPU times: user 34.5 s, sys: 25.1 ms, total: 34.5 s\n",
      "Wall time: 34.7 s\n"
     ]
    }
   ],
   "source": [
    "%%time\n",
    "_ = nx.betweenness_centrality(G)"
   ]
  },
  {
   "cell_type": "code",
   "execution_count": 20,
   "id": "6414740b-8ea0-4716-9976-cda621a5f75b",
   "metadata": {},
   "outputs": [
    {
     "ename": "NetworkXNotImplemented",
     "evalue": "'betweenness_centrality' not implemented by graphblas",
     "output_type": "error",
     "traceback": [
      "\u001b[0;31m---------------------------------------------------------------------------\u001b[0m",
      "\u001b[0;31mNetworkXNotImplemented\u001b[0m                    Traceback (most recent call last)",
      "File \u001b[0;32m<timed exec>:1\u001b[0m\n",
      "File \u001b[0;32m<class 'networkx.utils.decorators.argmap'> compilation 8:4\u001b[0m, in \u001b[0;36margmap_betweenness_centrality_5\u001b[0;34m(G, k, normalized, weight, endpoints, seed, backend, **backend_kwargs)\u001b[0m\n\u001b[1;32m      2\u001b[0m \u001b[38;5;28;01mimport\u001b[39;00m \u001b[38;5;21;01mcollections\u001b[39;00m\n\u001b[1;32m      3\u001b[0m \u001b[38;5;28;01mimport\u001b[39;00m \u001b[38;5;21;01mgzip\u001b[39;00m\n\u001b[0;32m----> 4\u001b[0m \u001b[38;5;28;01mimport\u001b[39;00m \u001b[38;5;21;01minspect\u001b[39;00m\n\u001b[1;32m      5\u001b[0m \u001b[38;5;28;01mimport\u001b[39;00m \u001b[38;5;21;01mitertools\u001b[39;00m\n\u001b[1;32m      6\u001b[0m \u001b[38;5;28;01mimport\u001b[39;00m \u001b[38;5;21;01mre\u001b[39;00m\n",
      "File \u001b[0;32m~/mambaforge/envs/play3.11/lib/python3.11/site-packages/networkx/utils/backends.py:554\u001b[0m, in \u001b[0;36m_dispatch.__call__\u001b[0;34m(self, backend, *args, **kwargs)\u001b[0m\n\u001b[1;32m    552\u001b[0m         \u001b[38;5;28;01mreturn\u001b[39;00m \u001b[38;5;28mgetattr\u001b[39m(backend, \u001b[38;5;28mself\u001b[39m\u001b[38;5;241m.\u001b[39mname)(\u001b[38;5;241m*\u001b[39margs, \u001b[38;5;241m*\u001b[39m\u001b[38;5;241m*\u001b[39mkwargs)\n\u001b[1;32m    553\u001b[0m     \u001b[38;5;66;03m# Future work: try to convert and run with other backends in self._automatic_backends\u001b[39;00m\n\u001b[0;32m--> 554\u001b[0m     \u001b[38;5;28;01mraise\u001b[39;00m NetworkXNotImplemented(\n\u001b[1;32m    555\u001b[0m         \u001b[38;5;124mf\u001b[39m\u001b[38;5;124m\"\u001b[39m\u001b[38;5;124m'\u001b[39m\u001b[38;5;132;01m{\u001b[39;00m\u001b[38;5;28mself\u001b[39m\u001b[38;5;241m.\u001b[39mname\u001b[38;5;132;01m}\u001b[39;00m\u001b[38;5;124m'\u001b[39m\u001b[38;5;124m not implemented by \u001b[39m\u001b[38;5;132;01m{\u001b[39;00mgraph_backend_name\u001b[38;5;132;01m}\u001b[39;00m\u001b[38;5;124m\"\u001b[39m\n\u001b[1;32m    556\u001b[0m     )\n\u001b[1;32m    558\u001b[0m \u001b[38;5;66;03m# If backend was explicitly given by the user, so we need to use it no matter what\u001b[39;00m\n\u001b[1;32m    559\u001b[0m \u001b[38;5;28;01mif\u001b[39;00m backend_name \u001b[38;5;129;01mis\u001b[39;00m \u001b[38;5;129;01mnot\u001b[39;00m \u001b[38;5;28;01mNone\u001b[39;00m:\n",
      "\u001b[0;31mNetworkXNotImplemented\u001b[0m: 'betweenness_centrality' not implemented by graphblas"
     ]
    }
   ],
   "source": [
    "%%time\n",
    "_ = nx.betweenness_centrality(GB)"
   ]
  },
  {
   "cell_type": "markdown",
   "id": "cb71d820-f9fe-4815-89a6-6f04b0a204ef",
   "metadata": {},
   "source": [
    "It will be hard to cover all the algorithms in NetworkX by a backend as there is a long tail of algorithms implemented in NetworkX."
   ]
  },
  {
   "cell_type": "markdown",
   "id": "ffc0e365-555e-4ea3-9e74-53ed0e7becc6",
   "metadata": {},
   "source": [
    "## Use Dispatching in your codebases\n",
    "\n",
    "Just convert everything to a graphblas graph for now (where ever you have create a networkx object change it to a graphblas object). `graphblas-algorithms` does cover a good number of algorithms so it's possible that everything just works (tm) with just a single line change in your codebase."
   ]
  },
  {
   "cell_type": "markdown",
   "id": "ebfed1b1-ff02-4b83-a242-9589ff7a926e",
   "metadata": {
    "jp-MarkdownHeadingCollapsed": true
   },
   "source": [
    "# Let's write our own backend: `MetaGraphThatWrapsEveryOtherGraphObject`\n",
    "\n",
    "So we know that there are some algorithms which are not implemented by the `graphblas` backend, but can we design a backend which will always route us to the fastest implementation and not raise a `NetworkXNotImplemented`?\n",
    "\n",
    "- One way to create this `MetaGraphThatWrapsEveryOtherGraphObject` would be to create a new backend that holds pointers to the networkx graph object and all the other backend implementations objects (the object with the `__networkx_plugin__` class variable).\n",
    "\n",
    "- Currently we have only two backends (NetworkX `Dict` and `graphblas`), how would you design the priority heuristics in the case of multiple backends (CPU, GPU, single node CPU, multi node CPU/GPU .....)?\n",
    "\n",
    "- This is an interesting excercise as we (NetworkX and backend plugin developers) are still experimenting and figuring out how to implement the next part of NetworkX dispatching. If you have ideas we would love to talk more about them! (We have weekly sync up meetings <link to calendar>)\n",
    "\n",
    "For this tutorial let's focus on making this work with just NetworkX `Dict` and `graphblas` objects. We can assume that a `graphblas` implementation (if it exists) will always be faster than the native python `Dict`.\n",
    "\n",
    "The following code snippet should work with our new backend:\n",
    "``` python\n",
    "G_nx = nx.erdos_renyi_graph(1000, 0.5)\n",
    "G_gb = gb.Graph.from_networkx(G_nx)\n",
    "G = MetaWrap(G_nx, G_gb)\n",
    "nx.pagerank(G)\n",
    "nx.betweenness_centrality(G)\n",
    "```"
   ]
  },
  {
   "cell_type": "code",
   "execution_count": null,
   "id": "f3baca4b-35f7-4a21-bf70-ea9381f58ceb",
   "metadata": {},
   "outputs": [],
   "source": [
    "from metawrap.graph import MetaWrap"
   ]
  },
  {
   "cell_type": "code",
   "execution_count": null,
   "id": "9030c2ed-1b07-4cae-aa1b-ade81213d8d1",
   "metadata": {},
   "outputs": [],
   "source": [
    "G_nx = nx.erdos_renyi_graph(1000, 0.5)\n",
    "G_gb = gb.Graph.from_networkx(G_nx)"
   ]
  },
  {
   "cell_type": "code",
   "execution_count": null,
   "id": "66798be4-0509-431f-8ad6-89b20be8526c",
   "metadata": {},
   "outputs": [],
   "source": [
    "G = MetaWrap(G_nx, G_gb)"
   ]
  },
  {
   "cell_type": "code",
   "execution_count": null,
   "id": "839e2168-f968-4d51-a211-0959594319ee",
   "metadata": {},
   "outputs": [],
   "source": [
    "_ = nx.pagerank(G)"
   ]
  },
  {
   "cell_type": "code",
   "execution_count": null,
   "id": "5f9caf43-d0a2-43dd-b45b-b550bd21c75b",
   "metadata": {},
   "outputs": [],
   "source": [
    "_ = nx.betweenness_centrality(G)"
   ]
  }
 ],
 "metadata": {
  "kernelspec": {
   "display_name": "Python 3 (ipykernel)",
   "language": "python",
   "name": "python3"
  },
  "language_info": {
   "codemirror_mode": {
    "name": "ipython",
    "version": 3
   },
   "file_extension": ".py",
   "mimetype": "text/x-python",
   "name": "python",
   "nbconvert_exporter": "python",
   "pygments_lexer": "ipython3",
   "version": "3.11.4"
  }
 },
 "nbformat": 4,
 "nbformat_minor": 5
}
