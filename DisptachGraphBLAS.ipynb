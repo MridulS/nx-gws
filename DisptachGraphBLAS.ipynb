{
 "cells": [
  {
   "cell_type": "markdown",
   "id": "2d207fef-bc0d-45f0-94de-d9bc9dd95140",
   "metadata": {},
   "source": [
    "# Speed up your NetworkX code with GraphBLAS\n",
    "\n",
    "NetworkX is a pure python library for graph theory and network science by design. The base data structure for graphs in NetworkX are python dictionaries. This comes with a lot of advantages like extremely flexible and abstract ways of modelling your graph data, but one of the shortcomings is the performance. Native python objects and looping over them can slow down some things. NetworkX does use the sparse.array module in SciPy wherever it can to speed up algorithms but this still requires moving data from NetworkX to SciPy which can be an expensive operation.\n",
    "\n",
    "With NetworkX 3.0 we have started experimenting with dispatching certain algorithms to GraphBLAS. GraphBLAS is a specification to do graph operations using tools in linear algebra. We are still in early stages of designing the API and dispatch mechanism to multiple different backends. This dispatch mechanism will also let users run code on different hardwares like GPUs. We hope to soon have a NetworkX backend which can link into CuGraph."
   ]
  },
  {
   "cell_type": "code",
   "execution_count": null,
   "id": "8ba0056f-f6f7-4510-8d12-5569e7051885",
   "metadata": {},
   "outputs": [],
   "source": [
    "import networkx as nx"
   ]
  },
  {
   "cell_type": "code",
   "execution_count": null,
   "id": "3057f1ce-7859-43b1-9cfe-ffb157142042",
   "metadata": {},
   "outputs": [],
   "source": [
    "G = nx.erdos_renyi_graph(1000, 0.5)"
   ]
  },
  {
   "cell_type": "code",
   "execution_count": null,
   "id": "84cbf7bb",
   "metadata": {},
   "outputs": [],
   "source": [
    "nx.betweenness_centrality(G)"
   ]
  },
  {
   "cell_type": "code",
   "execution_count": null,
   "id": "9e9397b8-edf8-4896-baaa-bea669433942",
   "metadata": {},
   "outputs": [],
   "source": [
    "type(G)"
   ]
  },
  {
   "cell_type": "code",
   "execution_count": null,
   "id": "5db60834",
   "metadata": {},
   "outputs": [],
   "source": [
    "import graphblas_algorithms as gb"
   ]
  },
  {
   "cell_type": "code",
   "execution_count": null,
   "id": "07505959-f45f-45b7-b16e-e4243909300a",
   "metadata": {},
   "outputs": [],
   "source": [
    "# Convert to a GraphBLAS Graph object from NetworkX\n",
    "GB = gb.Graph.from_networkx(G)"
   ]
  },
  {
   "cell_type": "code",
   "execution_count": null,
   "id": "98a6b296-bcf6-4fc8-bae1-9e41b740861e",
   "metadata": {},
   "outputs": [],
   "source": [
    "type(GB)"
   ]
  },
  {
   "cell_type": "code",
   "execution_count": null,
   "id": "49c5510d-6c52-48c3-823e-630d3568603f",
   "metadata": {},
   "outputs": [],
   "source": [
    "# A backend Graph doesn't need to be a subclass of nx.Graph\n",
    "issubclass(gb.Graph, nx.Graph)"
   ]
  },
  {
   "cell_type": "markdown",
   "id": "c8e25bd1-fe12-4af5-81b1-538242377e14",
   "metadata": {},
   "source": [
    "With this setup, backend implementors do not need to worry about the data structures inside NetworkX. They just need to provide an interface to the NetworkX API and have a class attribute `__networkx_plugin__` which will help NetworkX dispatch the algorithm to the correct backend."
   ]
  },
  {
   "cell_type": "code",
   "execution_count": null,
   "id": "b9ae7d1f-693d-4d14-8055-86c21e2a0a7a",
   "metadata": {},
   "outputs": [],
   "source": [
    "GB.__networkx_plugin__"
   ]
  },
  {
   "cell_type": "markdown",
   "id": "af9a9dfd-a30a-4222-8053-bee15af7663f",
   "metadata": {},
   "source": [
    "## Let's trying some dispatching examples"
   ]
  },
  {
   "cell_type": "code",
   "execution_count": null,
   "id": "03740202-70c4-4ea6-b2b7-fb74a1309696",
   "metadata": {},
   "outputs": [],
   "source": [
    "%%time\n",
    "_ = nx.pagerank(G)"
   ]
  },
  {
   "cell_type": "code",
   "execution_count": null,
   "id": "8d4934d9-f77d-4be2-bb80-a3b3b92ad875",
   "metadata": {},
   "outputs": [],
   "source": [
    "%%time\n",
    "_ = nx.pagerank(GB)"
   ]
  },
  {
   "cell_type": "code",
   "execution_count": null,
   "id": "b92b1deb",
   "metadata": {},
   "outputs": [],
   "source": [
    "%%time\n",
    "_ = nx.square_clustering(G)"
   ]
  },
  {
   "cell_type": "code",
   "execution_count": null,
   "id": "7716dd35",
   "metadata": {},
   "outputs": [],
   "source": [
    "%%time\n",
    "_ = nx.square_clustering(GB)"
   ]
  },
  {
   "cell_type": "code",
   "execution_count": null,
   "id": "845a0c5b-d540-4f06-99cf-4488121ea7ee",
   "metadata": {},
   "outputs": [],
   "source": [
    "%%time\n",
    "_ = nx.betweenness_centrality(G)"
   ]
  },
  {
   "cell_type": "code",
   "execution_count": null,
   "id": "6414740b-8ea0-4716-9976-cda621a5f75b",
   "metadata": {},
   "outputs": [],
   "source": [
    "%%time\n",
    "_ = nx.betweenness_centrality(GB)"
   ]
  },
  {
   "cell_type": "markdown",
   "id": "cb71d820-f9fe-4815-89a6-6f04b0a204ef",
   "metadata": {},
   "source": [
    "It will be hard to cover all the algorithms in NetworkX by a backend as there is a long tail of algorithms implemented in NetworkX."
   ]
  },
  {
   "cell_type": "markdown",
   "id": "ffc0e365-555e-4ea3-9e74-53ed0e7becc6",
   "metadata": {},
   "source": [
    "## Use Dispatching in your codebases\n",
    "\n",
    "Just convert everything to a graphblas graph for now (where ever you have create a networkx object change it to a graphblas object). `graphblas-algorithms` does cover a good number of algorithms so it's possible that everything just works (tm) with just a single line change in your codebase."
   ]
  },
  {
   "cell_type": "markdown",
   "id": "ebfed1b1-ff02-4b83-a242-9589ff7a926e",
   "metadata": {
    "jp-MarkdownHeadingCollapsed": true
   },
   "source": [
    "# Let's write our own backend: `MetaGraphThatWrapsEveryOtherGraphObject`\n",
    "\n",
    "So we know that there are some algorithms which are not implemented by the `graphblas` backend, but can we design a backend which will always route us to the fastest implementation and not raise a `NetworkXNotImplemented`?\n",
    "\n",
    "- One way to create this `MetaGraphThatWrapsEveryOtherGraphObject` would be to create a new backend that holds pointers to the networkx graph object and all the other backend implementations objects (the object with the `__networkx_plugin__` class variable).\n",
    "\n",
    "- Currently we have only two backends (NetworkX `Dict` and `graphblas`), how would you design the priority heuristics in the case of multiple backends (CPU, GPU, single node CPU, multi node CPU/GPU .....)?\n",
    "\n",
    "- This is an interesting excercise as we (NetworkX and backend plugin developers) are still experimenting and figuring out how to implement the next part of NetworkX dispatching. If you have ideas we would love to talk more about them! (We have weekly sync up meetings <link to calendar>)\n",
    "\n",
    "For this tutorial let's focus on making this work with just NetworkX `Dict` and `graphblas` objects. We can assume that a `graphblas` implementation (if it exists) will always be faster than the native python `Dict`.\n",
    "\n",
    "The following code snippet should work with our new backend:\n",
    "``` python\n",
    "G_nx = nx.erdos_renyi_graph(1000, 0.5)\n",
    "G_gb = gb.Graph.from_networkx(G_nx)\n",
    "G = MetaWrap(G_nx, G_gb)\n",
    "nx.pagerank(G)\n",
    "nx.betweenness_centrality(G)\n",
    "```"
   ]
  },
  {
   "cell_type": "code",
   "execution_count": null,
   "id": "f3baca4b-35f7-4a21-bf70-ea9381f58ceb",
   "metadata": {},
   "outputs": [],
   "source": [
    "from metawrap.graph import MetaWrap"
   ]
  },
  {
   "cell_type": "code",
   "execution_count": null,
   "id": "9030c2ed-1b07-4cae-aa1b-ade81213d8d1",
   "metadata": {},
   "outputs": [],
   "source": [
    "G_nx = nx.erdos_renyi_graph(1000, 0.5)\n",
    "G_gb = gb.Graph.from_networkx(G_nx)"
   ]
  },
  {
   "cell_type": "code",
   "execution_count": null,
   "id": "66798be4-0509-431f-8ad6-89b20be8526c",
   "metadata": {},
   "outputs": [],
   "source": [
    "G = MetaWrap(G_nx, G_gb)"
   ]
  },
  {
   "cell_type": "code",
   "execution_count": null,
   "id": "839e2168-f968-4d51-a211-0959594319ee",
   "metadata": {},
   "outputs": [],
   "source": [
    "_ = nx.pagerank(G)"
   ]
  },
  {
   "cell_type": "code",
   "execution_count": null,
   "id": "5f9caf43-d0a2-43dd-b45b-b550bd21c75b",
   "metadata": {},
   "outputs": [],
   "source": [
    "_ = nx.betweenness_centrality(G)"
   ]
  }
 ],
 "metadata": {
  "kernelspec": {
   "display_name": "Python 3 (ipykernel)",
   "language": "python",
   "name": "python3"
  },
  "language_info": {
   "codemirror_mode": {
    "name": "ipython",
    "version": 3
   },
   "file_extension": ".py",
   "mimetype": "text/x-python",
   "name": "python",
   "nbconvert_exporter": "python",
   "pygments_lexer": "ipython3",
   "version": "3.11.4"
  }
 },
 "nbformat": 4,
 "nbformat_minor": 5
}
